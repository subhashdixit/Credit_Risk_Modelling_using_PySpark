{
 "cells": [
  {
   "cell_type": "markdown",
   "metadata": {},
   "source": [
    "# **<center>Home Credit Default Risk</center>**\n",
    "\n",
    "**PySpark Introduction**\n",
    "- Apache Spark is popular in big data due to in-memory computation and parallel processing.\n",
    "- MLlib, built on Spark, is a scalable Machine Learning library with high-quality algorithms and speed.\n",
    "- MLlib has APIs for Java, Python, and Scala, making it suitable for Data Analysts, Engineers, and Scientists.\n",
    "- MLlib includes algorithms for classification, regression, clustering, collaborative filtering, and more.\n",
    "\n",
    "**Problem Statement Introduction**\n",
    "- The article discusses building an end-to-end machine learning model using MLlib in PySpark.\n",
    "- The dataset used is from the Home Credit Default Risk competition on Kaggle.\n",
    "- The objective is to determine if loan applicants can repay their loans based on collected data.\n",
    "- It's a binary classification problem with an imbalanced target label: 0 (applicants who paid back loans) and 1 (applicants who didn't).\n",
    "- The distribution ratio is approximately 0.91 (applicants who repaid) to 0.09 (applicants who didn't)."
   ]
  },
  {
   "cell_type": "markdown",
   "metadata": {},
   "source": [
    "## **1. Data Ingestion and Spark session creation**\n",
    "- Dataset Link: https://www.kaggle.com/c/home-credit-default-risk"
   ]
  },
  {
   "cell_type": "code",
   "execution_count": 1,
   "metadata": {},
   "outputs": [
    {
     "name": "stdout",
     "output_type": "stream",
     "text": [
      "root\n",
      " |-- SK_ID_CURR: integer (nullable = true)\n",
      " |-- TARGET: integer (nullable = true)\n",
      " |-- NAME_CONTRACT_TYPE: string (nullable = true)\n",
      " |-- CODE_GENDER: string (nullable = true)\n",
      " |-- FLAG_OWN_CAR: string (nullable = true)\n",
      " |-- FLAG_OWN_REALTY: string (nullable = true)\n",
      " |-- CNT_CHILDREN: integer (nullable = true)\n",
      " |-- AMT_INCOME_TOTAL: double (nullable = true)\n",
      " |-- AMT_CREDIT: double (nullable = true)\n",
      " |-- AMT_ANNUITY: double (nullable = true)\n",
      " |-- AMT_GOODS_PRICE: double (nullable = true)\n",
      " |-- NAME_TYPE_SUITE: string (nullable = true)\n",
      " |-- NAME_INCOME_TYPE: string (nullable = true)\n",
      " |-- NAME_EDUCATION_TYPE: string (nullable = true)\n",
      " |-- NAME_FAMILY_STATUS: string (nullable = true)\n",
      " |-- NAME_HOUSING_TYPE: string (nullable = true)\n",
      " |-- REGION_POPULATION_RELATIVE: double (nullable = true)\n",
      " |-- DAYS_BIRTH: integer (nullable = true)\n",
      " |-- DAYS_EMPLOYED: integer (nullable = true)\n",
      " |-- DAYS_REGISTRATION: double (nullable = true)\n",
      " |-- DAYS_ID_PUBLISH: integer (nullable = true)\n",
      " |-- OWN_CAR_AGE: double (nullable = true)\n",
      " |-- FLAG_MOBIL: integer (nullable = true)\n",
      " |-- FLAG_EMP_PHONE: integer (nullable = true)\n",
      " |-- FLAG_WORK_PHONE: integer (nullable = true)\n",
      " |-- FLAG_CONT_MOBILE: integer (nullable = true)\n",
      " |-- FLAG_PHONE: integer (nullable = true)\n",
      " |-- FLAG_EMAIL: integer (nullable = true)\n",
      " |-- OCCUPATION_TYPE: string (nullable = true)\n",
      " |-- CNT_FAM_MEMBERS: double (nullable = true)\n",
      " |-- REGION_RATING_CLIENT: integer (nullable = true)\n",
      " |-- REGION_RATING_CLIENT_W_CITY: integer (nullable = true)\n",
      " |-- WEEKDAY_APPR_PROCESS_START: string (nullable = true)\n",
      " |-- HOUR_APPR_PROCESS_START: integer (nullable = true)\n",
      " |-- REG_REGION_NOT_LIVE_REGION: integer (nullable = true)\n",
      " |-- REG_REGION_NOT_WORK_REGION: integer (nullable = true)\n",
      " |-- LIVE_REGION_NOT_WORK_REGION: integer (nullable = true)\n",
      " |-- REG_CITY_NOT_LIVE_CITY: integer (nullable = true)\n",
      " |-- REG_CITY_NOT_WORK_CITY: integer (nullable = true)\n",
      " |-- LIVE_CITY_NOT_WORK_CITY: integer (nullable = true)\n",
      " |-- ORGANIZATION_TYPE: string (nullable = true)\n",
      " |-- EXT_SOURCE_1: double (nullable = true)\n",
      " |-- EXT_SOURCE_2: double (nullable = true)\n",
      " |-- EXT_SOURCE_3: double (nullable = true)\n",
      " |-- APARTMENTS_AVG: double (nullable = true)\n",
      " |-- BASEMENTAREA_AVG: double (nullable = true)\n",
      " |-- YEARS_BEGINEXPLUATATION_AVG: double (nullable = true)\n",
      " |-- YEARS_BUILD_AVG: double (nullable = true)\n",
      " |-- COMMONAREA_AVG: double (nullable = true)\n",
      " |-- ELEVATORS_AVG: double (nullable = true)\n",
      " |-- ENTRANCES_AVG: double (nullable = true)\n",
      " |-- FLOORSMAX_AVG: double (nullable = true)\n",
      " |-- FLOORSMIN_AVG: double (nullable = true)\n",
      " |-- LANDAREA_AVG: double (nullable = true)\n",
      " |-- LIVINGAPARTMENTS_AVG: double (nullable = true)\n",
      " |-- LIVINGAREA_AVG: double (nullable = true)\n",
      " |-- NONLIVINGAPARTMENTS_AVG: double (nullable = true)\n",
      " |-- NONLIVINGAREA_AVG: double (nullable = true)\n",
      " |-- APARTMENTS_MODE: double (nullable = true)\n",
      " |-- BASEMENTAREA_MODE: double (nullable = true)\n",
      " |-- YEARS_BEGINEXPLUATATION_MODE: double (nullable = true)\n",
      " |-- YEARS_BUILD_MODE: double (nullable = true)\n",
      " |-- COMMONAREA_MODE: double (nullable = true)\n",
      " |-- ELEVATORS_MODE: double (nullable = true)\n",
      " |-- ENTRANCES_MODE: double (nullable = true)\n",
      " |-- FLOORSMAX_MODE: double (nullable = true)\n",
      " |-- FLOORSMIN_MODE: double (nullable = true)\n",
      " |-- LANDAREA_MODE: double (nullable = true)\n",
      " |-- LIVINGAPARTMENTS_MODE: double (nullable = true)\n",
      " |-- LIVINGAREA_MODE: double (nullable = true)\n",
      " |-- NONLIVINGAPARTMENTS_MODE: double (nullable = true)\n",
      " |-- NONLIVINGAREA_MODE: double (nullable = true)\n",
      " |-- APARTMENTS_MEDI: double (nullable = true)\n",
      " |-- BASEMENTAREA_MEDI: double (nullable = true)\n",
      " |-- YEARS_BEGINEXPLUATATION_MEDI: double (nullable = true)\n",
      " |-- YEARS_BUILD_MEDI: double (nullable = true)\n",
      " |-- COMMONAREA_MEDI: double (nullable = true)\n",
      " |-- ELEVATORS_MEDI: double (nullable = true)\n",
      " |-- ENTRANCES_MEDI: double (nullable = true)\n",
      " |-- FLOORSMAX_MEDI: double (nullable = true)\n",
      " |-- FLOORSMIN_MEDI: double (nullable = true)\n",
      " |-- LANDAREA_MEDI: double (nullable = true)\n",
      " |-- LIVINGAPARTMENTS_MEDI: double (nullable = true)\n",
      " |-- LIVINGAREA_MEDI: double (nullable = true)\n",
      " |-- NONLIVINGAPARTMENTS_MEDI: double (nullable = true)\n",
      " |-- NONLIVINGAREA_MEDI: double (nullable = true)\n",
      " |-- FONDKAPREMONT_MODE: string (nullable = true)\n",
      " |-- HOUSETYPE_MODE: string (nullable = true)\n",
      " |-- TOTALAREA_MODE: double (nullable = true)\n",
      " |-- WALLSMATERIAL_MODE: string (nullable = true)\n",
      " |-- EMERGENCYSTATE_MODE: string (nullable = true)\n",
      " |-- OBS_30_CNT_SOCIAL_CIRCLE: double (nullable = true)\n",
      " |-- DEF_30_CNT_SOCIAL_CIRCLE: double (nullable = true)\n",
      " |-- OBS_60_CNT_SOCIAL_CIRCLE: double (nullable = true)\n",
      " |-- DEF_60_CNT_SOCIAL_CIRCLE: double (nullable = true)\n",
      " |-- DAYS_LAST_PHONE_CHANGE: double (nullable = true)\n",
      " |-- FLAG_DOCUMENT_2: integer (nullable = true)\n",
      " |-- FLAG_DOCUMENT_3: integer (nullable = true)\n",
      " |-- FLAG_DOCUMENT_4: integer (nullable = true)\n",
      " |-- FLAG_DOCUMENT_5: integer (nullable = true)\n",
      " |-- FLAG_DOCUMENT_6: integer (nullable = true)\n",
      " |-- FLAG_DOCUMENT_7: integer (nullable = true)\n",
      " |-- FLAG_DOCUMENT_8: integer (nullable = true)\n",
      " |-- FLAG_DOCUMENT_9: integer (nullable = true)\n",
      " |-- FLAG_DOCUMENT_10: integer (nullable = true)\n",
      " |-- FLAG_DOCUMENT_11: integer (nullable = true)\n",
      " |-- FLAG_DOCUMENT_12: integer (nullable = true)\n",
      " |-- FLAG_DOCUMENT_13: integer (nullable = true)\n",
      " |-- FLAG_DOCUMENT_14: integer (nullable = true)\n",
      " |-- FLAG_DOCUMENT_15: integer (nullable = true)\n",
      " |-- FLAG_DOCUMENT_16: integer (nullable = true)\n",
      " |-- FLAG_DOCUMENT_17: integer (nullable = true)\n",
      " |-- FLAG_DOCUMENT_18: integer (nullable = true)\n",
      " |-- FLAG_DOCUMENT_19: integer (nullable = true)\n",
      " |-- FLAG_DOCUMENT_20: integer (nullable = true)\n",
      " |-- FLAG_DOCUMENT_21: integer (nullable = true)\n",
      " |-- AMT_REQ_CREDIT_BUREAU_HOUR: double (nullable = true)\n",
      " |-- AMT_REQ_CREDIT_BUREAU_DAY: double (nullable = true)\n",
      " |-- AMT_REQ_CREDIT_BUREAU_WEEK: double (nullable = true)\n",
      " |-- AMT_REQ_CREDIT_BUREAU_MON: double (nullable = true)\n",
      " |-- AMT_REQ_CREDIT_BUREAU_QRT: double (nullable = true)\n",
      " |-- AMT_REQ_CREDIT_BUREAU_YEAR: double (nullable = true)\n",
      "\n"
     ]
    }
   ],
   "source": [
    "from pyspark.sql import SparkSession\n",
    "# initiate our session and read the main CSV file, then we print the #dataframe schema\n",
    "spark = SparkSession.builder.appName('imbalanced_binary_classification').getOrCreate()\n",
    "new_df = spark.read.csv(\"../Data/application_train.csv/application_train.csv\", header=True, inferSchema=True)\n",
    "new_df.printSchema()"
   ]
  },
  {
   "cell_type": "markdown",
   "metadata": {},
   "source": [
    "- printSchema() only shows us the column names and its data type. we are going to drop the SK_ID_CURR column, rename the “TARGET” column to “label” and see the distribution of our target variable:"
   ]
  },
  {
   "cell_type": "markdown",
   "metadata": {},
   "source": [
    "## **2. Analysis of the Data**"
   ]
  },
  {
   "cell_type": "code",
   "execution_count": 2,
   "metadata": {},
   "outputs": [
    {
     "data": {
      "text/html": [
       "<div>\n",
       "<style scoped>\n",
       "    .dataframe tbody tr th:only-of-type {\n",
       "        vertical-align: middle;\n",
       "    }\n",
       "\n",
       "    .dataframe tbody tr th {\n",
       "        vertical-align: top;\n",
       "    }\n",
       "\n",
       "    .dataframe thead th {\n",
       "        text-align: right;\n",
       "    }\n",
       "</style>\n",
       "<table border=\"1\" class=\"dataframe\">\n",
       "  <thead>\n",
       "    <tr style=\"text-align: right;\">\n",
       "      <th></th>\n",
       "      <th>label</th>\n",
       "      <th>count</th>\n",
       "    </tr>\n",
       "  </thead>\n",
       "  <tbody>\n",
       "    <tr>\n",
       "      <th>0</th>\n",
       "      <td>1</td>\n",
       "      <td>24825</td>\n",
       "    </tr>\n",
       "    <tr>\n",
       "      <th>1</th>\n",
       "      <td>0</td>\n",
       "      <td>282686</td>\n",
       "    </tr>\n",
       "  </tbody>\n",
       "</table>\n",
       "</div>"
      ],
      "text/plain": [
       "   label   count\n",
       "0      1   24825\n",
       "1      0  282686"
      ]
     },
     "execution_count": 2,
     "metadata": {},
     "output_type": "execute_result"
    }
   ],
   "source": [
    "# Sk_ID_Curr is the id column which we dont need it in the process #so we get rid of it. and we rename the name of our \n",
    "# target variable to \"label\"\n",
    "drop_col = ['SK_ID_CURR']\n",
    "new_df = new_df.select([column for column in new_df.columns if column not in drop_col])\n",
    "new_df = new_df.withColumnRenamed('TARGET', 'label')\n",
    "new_df.groupby('label').count().toPandas()"
   ]
  },
  {
   "cell_type": "markdown",
   "metadata": {},
   "source": [
    "- Dataset is highly imbalanced"
   ]
  },
  {
   "cell_type": "code",
   "execution_count": 3,
   "metadata": {},
   "outputs": [
    {
     "name": "stdout",
     "output_type": "stream",
     "text": [
      "307511\n"
     ]
    },
    {
     "name": "stderr",
     "output_type": "stream",
     "text": [
      "d:\\Personal Files\\Projects\\Credit_Risk_Modelling_using_PySpark\\venv\\lib\\site-packages\\seaborn\\_oldcore.py:1498: FutureWarning: is_categorical_dtype is deprecated and will be removed in a future version. Use isinstance(dtype, CategoricalDtype) instead\n",
      "  if pd.api.types.is_categorical_dtype(vector):\n",
      "d:\\Personal Files\\Projects\\Credit_Risk_Modelling_using_PySpark\\venv\\lib\\site-packages\\seaborn\\_oldcore.py:1498: FutureWarning: is_categorical_dtype is deprecated and will be removed in a future version. Use isinstance(dtype, CategoricalDtype) instead\n",
      "  if pd.api.types.is_categorical_dtype(vector):\n"
     ]
    },
    {
     "data": {
      "text/plain": [
       "<Axes: xlabel='label', ylabel='count'>"
      ]
     },
     "execution_count": 3,
     "metadata": {},
     "output_type": "execute_result"
    },
    {
     "data": {
      "image/png": "[encoded data removed]",
      "text/plain": [
       "<Figure size 600x300 with 1 Axes>"
      ]
     },
     "metadata": {},
     "output_type": "display_data"
    }
   ],
   "source": [
    "# let's have a look at the distribution of our target variable:\n",
    "# to make it look better, we first convert our spark df to a Pandas\n",
    "# Import the updated library\n",
    "import pandas as pd\n",
    "# Rest of your code\n",
    "import matplotlib.pyplot as plt\n",
    "import seaborn as sns\n",
    "%matplotlib inline\n",
    "df_pd = new_df.toPandas()\n",
    "print(len(df_pd))\n",
    "plt.figure(figsize=(6,3))\n",
    "sns.countplot(x='label', data=df_pd, order=df_pd['label'].value_counts().index)\n"
   ]
  },
  {
   "cell_type": "markdown",
   "metadata": {},
   "source": [
    "**Data Wrangling can be summarized in the following points:**\n",
    "\n",
    "1. Understanding Dataset Structure: Begin by gaining insights into the dataset's general structure.\n",
    "\n",
    "2. Identifying Feature Types: Determine the count of Categorical and Numerical features within the dataset.\n",
    "\n",
    "3. Handling Missing Values: Develop a function to extract crucial information regarding missing values in the dataset."
   ]
  },
  {
   "cell_type": "markdown",
   "metadata": {},
   "source": [
    "**Identifying Categorical & Numerical features**"
   ]
  },
  {
   "cell_type": "code",
   "execution_count": 4,
   "metadata": {},
   "outputs": [
    {
     "name": "stdout",
     "output_type": "stream",
     "text": [
      "16  categorical features\n",
      "104  numerical features\n"
     ]
    }
   ],
   "source": [
    "# now let's see how many categorical and numerical features we have:\n",
    "cat_cols = [item[0] for item in new_df.dtypes if item[1].startswith('string')] \n",
    "print(str(len(cat_cols)) + '  categorical features')\n",
    "num_cols = [item[0] for item in new_df.dtypes if item[1].startswith('int') | item[1].startswith('double')][1:]\n",
    "print(str(len(num_cols)) + '  numerical features')\n"
   ]
  },
  {
   "cell_type": "markdown",
   "metadata": {},
   "source": [
    "**Identifying missing info**"
   ]
  },
  {
   "cell_type": "code",
   "execution_count": 5,
   "metadata": {},
   "outputs": [
    {
     "name": "stdout",
     "output_type": "stream",
     "text": [
      "Your selected dataframe has 121 columns.\n",
      "There are 67 columns that have missing values.\n"
     ]
    },
    {
     "data": {
      "text/html": [
       "<div>\n",
       "<style scoped>\n",
       "    .dataframe tbody tr th:only-of-type {\n",
       "        vertical-align: middle;\n",
       "    }\n",
       "\n",
       "    .dataframe tbody tr th {\n",
       "        vertical-align: top;\n",
       "    }\n",
       "\n",
       "    .dataframe thead th {\n",
       "        text-align: right;\n",
       "    }\n",
       "</style>\n",
       "<table border=\"1\" class=\"dataframe\">\n",
       "  <thead>\n",
       "    <tr style=\"text-align: right;\">\n",
       "      <th></th>\n",
       "      <th>Missing Values</th>\n",
       "      <th>% of Total Values</th>\n",
       "    </tr>\n",
       "  </thead>\n",
       "  <tbody>\n",
       "    <tr>\n",
       "      <th>COMMONAREA_MEDI</th>\n",
       "      <td>214865</td>\n",
       "      <td>69.9</td>\n",
       "    </tr>\n",
       "    <tr>\n",
       "      <th>COMMONAREA_AVG</th>\n",
       "      <td>214865</td>\n",
       "      <td>69.9</td>\n",
       "    </tr>\n",
       "    <tr>\n",
       "      <th>COMMONAREA_MODE</th>\n",
       "      <td>214865</td>\n",
       "      <td>69.9</td>\n",
       "    </tr>\n",
       "    <tr>\n",
       "      <th>NONLIVINGAPARTMENTS_MEDI</th>\n",
       "      <td>213514</td>\n",
       "      <td>69.4</td>\n",
       "    </tr>\n",
       "    <tr>\n",
       "      <th>NONLIVINGAPARTMENTS_MODE</th>\n",
       "      <td>213514</td>\n",
       "      <td>69.4</td>\n",
       "    </tr>\n",
       "    <tr>\n",
       "      <th>...</th>\n",
       "      <td>...</td>\n",
       "      <td>...</td>\n",
       "    </tr>\n",
       "    <tr>\n",
       "      <th>EXT_SOURCE_2</th>\n",
       "      <td>660</td>\n",
       "      <td>0.2</td>\n",
       "    </tr>\n",
       "    <tr>\n",
       "      <th>AMT_GOODS_PRICE</th>\n",
       "      <td>278</td>\n",
       "      <td>0.1</td>\n",
       "    </tr>\n",
       "    <tr>\n",
       "      <th>AMT_ANNUITY</th>\n",
       "      <td>12</td>\n",
       "      <td>0.0</td>\n",
       "    </tr>\n",
       "    <tr>\n",
       "      <th>CNT_FAM_MEMBERS</th>\n",
       "      <td>2</td>\n",
       "      <td>0.0</td>\n",
       "    </tr>\n",
       "    <tr>\n",
       "      <th>DAYS_LAST_PHONE_CHANGE</th>\n",
       "      <td>1</td>\n",
       "      <td>0.0</td>\n",
       "    </tr>\n",
       "  </tbody>\n",
       "</table>\n",
       "<p>67 rows × 2 columns</p>\n",
       "</div>"
      ],
      "text/plain": [
       "                          Missing Values  % of Total Values\n",
       "COMMONAREA_MEDI                   214865               69.9\n",
       "COMMONAREA_AVG                    214865               69.9\n",
       "COMMONAREA_MODE                   214865               69.9\n",
       "NONLIVINGAPARTMENTS_MEDI          213514               69.4\n",
       "NONLIVINGAPARTMENTS_MODE          213514               69.4\n",
       "...                                  ...                ...\n",
       "EXT_SOURCE_2                         660                0.2\n",
       "AMT_GOODS_PRICE                      278                0.1\n",
       "AMT_ANNUITY                           12                0.0\n",
       "CNT_FAM_MEMBERS                        2                0.0\n",
       "DAYS_LAST_PHONE_CHANGE                 1                0.0\n",
       "\n",
       "[67 rows x 2 columns]"
      ]
     },
     "execution_count": 5,
     "metadata": {},
     "output_type": "execute_result"
    }
   ],
   "source": [
    "# we use the below function to find more information about the #missing values\n",
    "def info_missing_table(df_pd):\n",
    "    \"\"\"Input pandas dataframe and Return columns with missing value and percentage\"\"\"\n",
    "    mis_val = df_pd.isnull().sum() #count total of null in each columns in dataframe\n",
    "    #count percentage of null in each columns\n",
    "    mis_val_percent = 100 * df_pd.isnull().sum() / len(df_pd) \n",
    "    mis_val_table = pd.concat([mis_val, mis_val_percent], axis=1) \n",
    "    #join to left (as column) between mis_val and mis_val_percent\n",
    "    mis_val_table_ren_columns = mis_val_table.rename(\n",
    "    columns = {0 : 'Missing Values', 1 : '% of Total Values'}) \n",
    "    #rename columns in table\n",
    "    mis_val_table_ren_columns = mis_val_table_ren_columns[\n",
    "    mis_val_table_ren_columns.iloc[:,1] != 0].sort_values('% of Total Values', ascending=False).round(1) \n",
    "        \n",
    "    print (\"Your selected dataframe has \" + str(df_pd.shape[1]) + \" columns.\\n\"    #.shape[1] : just view total columns in dataframe  \n",
    "    \"There are \" + str(mis_val_table_ren_columns.shape[0]) +              \n",
    "    \" columns that have missing values.\") #.shape[0] : just view total rows in dataframe\n",
    "    return mis_val_table_ren_columns\n",
    "    \n",
    "missings = info_missing_table(df_pd)\n",
    "missings\n"
   ]
  },
  {
   "cell_type": "markdown",
   "metadata": {},
   "source": [
    "- There are 67 columns out of 121 that has missing values in them. and it doesn't show all of them in the image, but overall, most of these 67 columns have more than 50 percent missing values. so we are dealing with a lot of missing values. we are going to fill the numerical missing values with the average of each column and the categorical missing values with the most frequent category of each column. "
   ]
  },
  {
   "cell_type": "code",
   "execution_count": 6,
   "metadata": {},
   "outputs": [],
   "source": [
    "# so this function deals with the a spark dataframe directly to find more about the missing values\n",
    "def count_missings(spark_df):\n",
    "    null_counts = []        \n",
    "    for col in spark_df.dtypes:    \n",
    "        cname = col[0]     \n",
    "        ctype = col[1]      \n",
    "        nulls = spark_df.where( spark_df[cname].isNull()).count() #check count of null in column name\n",
    "        result = tuple([cname, nulls])  #new tuple, (column name, null count)\n",
    "        null_counts.append(result)      #put the new tuple in our result list\n",
    "    null_counts=[(x,y) for (x,y) in null_counts if y!=0]  #view just columns that have missing values\n",
    "    return null_counts"
   ]
  },
  {
   "cell_type": "code",
   "execution_count": 7,
   "metadata": {},
   "outputs": [
    {
     "data": {
      "text/plain": [
       "[('AMT_ANNUITY', 12),\n",
       " ('AMT_GOODS_PRICE', 278),\n",
       " ('NAME_TYPE_SUITE', 1292),\n",
       " ('OWN_CAR_AGE', 202929),\n",
       " ('OCCUPATION_TYPE', 96391),\n",
       " ('CNT_FAM_MEMBERS', 2),\n",
       " ('EXT_SOURCE_1', 173378),\n",
       " ('EXT_SOURCE_2', 660),\n",
       " ('EXT_SOURCE_3', 60965),\n",
       " ('APARTMENTS_AVG', 156061),\n",
       " ('BASEMENTAREA_AVG', 179943),\n",
       " ('YEARS_BEGINEXPLUATATION_AVG', 150007),\n",
       " ('YEARS_BUILD_AVG', 204488),\n",
       " ('COMMONAREA_AVG', 214865),\n",
       " ('ELEVATORS_AVG', 163891),\n",
       " ('ENTRANCES_AVG', 154828),\n",
       " ('FLOORSMAX_AVG', 153020),\n",
       " ('FLOORSMIN_AVG', 208642),\n",
       " ('LANDAREA_AVG', 182590),\n",
       " ('LIVINGAPARTMENTS_AVG', 210199),\n",
       " ('LIVINGAREA_AVG', 154350),\n",
       " ('NONLIVINGAPARTMENTS_AVG', 213514),\n",
       " ('NONLIVINGAREA_AVG', 169682),\n",
       " ('APARTMENTS_MODE', 156061),\n",
       " ('BASEMENTAREA_MODE', 179943),\n",
       " ('YEARS_BEGINEXPLUATATION_MODE', 150007),\n",
       " ('YEARS_BUILD_MODE', 204488),\n",
       " ('COMMONAREA_MODE', 214865),\n",
       " ('ELEVATORS_MODE', 163891),\n",
       " ('ENTRANCES_MODE', 154828),\n",
       " ('FLOORSMAX_MODE', 153020),\n",
       " ('FLOORSMIN_MODE', 208642),\n",
       " ('LANDAREA_MODE', 182590),\n",
       " ('LIVINGAPARTMENTS_MODE', 210199),\n",
       " ('LIVINGAREA_MODE', 154350),\n",
       " ('NONLIVINGAPARTMENTS_MODE', 213514),\n",
       " ('NONLIVINGAREA_MODE', 169682),\n",
       " ('APARTMENTS_MEDI', 156061),\n",
       " ('BASEMENTAREA_MEDI', 179943),\n",
       " ('YEARS_BEGINEXPLUATATION_MEDI', 150007),\n",
       " ('YEARS_BUILD_MEDI', 204488),\n",
       " ('COMMONAREA_MEDI', 214865),\n",
       " ('ELEVATORS_MEDI', 163891),\n",
       " ('ENTRANCES_MEDI', 154828),\n",
       " ('FLOORSMAX_MEDI', 153020),\n",
       " ('FLOORSMIN_MEDI', 208642),\n",
       " ('LANDAREA_MEDI', 182590),\n",
       " ('LIVINGAPARTMENTS_MEDI', 210199),\n",
       " ('LIVINGAREA_MEDI', 154350),\n",
       " ('NONLIVINGAPARTMENTS_MEDI', 213514),\n",
       " ('NONLIVINGAREA_MEDI', 169682),\n",
       " ('FONDKAPREMONT_MODE', 210295),\n",
       " ('HOUSETYPE_MODE', 154297),\n",
       " ('TOTALAREA_MODE', 148431),\n",
       " ('WALLSMATERIAL_MODE', 156341),\n",
       " ('EMERGENCYSTATE_MODE', 145755),\n",
       " ('OBS_30_CNT_SOCIAL_CIRCLE', 1021),\n",
       " ('DEF_30_CNT_SOCIAL_CIRCLE', 1021),\n",
       " ('OBS_60_CNT_SOCIAL_CIRCLE', 1021),\n",
       " ('DEF_60_CNT_SOCIAL_CIRCLE', 1021),\n",
       " ('DAYS_LAST_PHONE_CHANGE', 1),\n",
       " ('AMT_REQ_CREDIT_BUREAU_HOUR', 41519),\n",
       " ('AMT_REQ_CREDIT_BUREAU_DAY', 41519),\n",
       " ('AMT_REQ_CREDIT_BUREAU_WEEK', 41519),\n",
       " ('AMT_REQ_CREDIT_BUREAU_MON', 41519),\n",
       " ('AMT_REQ_CREDIT_BUREAU_QRT', 41519),\n",
       " ('AMT_REQ_CREDIT_BUREAU_YEAR', 41519)]"
      ]
     },
     "execution_count": 7,
     "metadata": {},
     "output_type": "execute_result"
    }
   ],
   "source": [
    "# counts =missings.index\n",
    "# miss_counts = []\n",
    "# for column, miss_count in zip(missings.index, missings['Missing Values']):\n",
    "#     miss_counts.append((column, miss_count))\n",
    "\n",
    "miss_counts = count_missings(new_df)\n",
    "miss_counts\n"
   ]
  },
  {
   "cell_type": "markdown",
   "metadata": {},
   "source": [
    "## **3. Data Pre-processing**\n",
    "**Separate categorical and numerical columns with missing values**"
   ]
  },
  {
   "cell_type": "code",
   "execution_count": 8,
   "metadata": {},
   "outputs": [
    {
     "name": "stdout",
     "output_type": "stream",
     "text": [
      "cateogrical columns_miss: ['NAME_TYPE_SUITE', 'OCCUPATION_TYPE', 'FONDKAPREMONT_MODE', 'HOUSETYPE_MODE', 'WALLSMATERIAL_MODE', 'EMERGENCYSTATE_MODE']\n",
      "numerical columns_miss: ['AMT_ANNUITY', 'AMT_GOODS_PRICE', 'OWN_CAR_AGE', 'CNT_FAM_MEMBERS', 'EXT_SOURCE_1', 'EXT_SOURCE_2', 'EXT_SOURCE_3', 'APARTMENTS_AVG', 'BASEMENTAREA_AVG', 'YEARS_BEGINEXPLUATATION_AVG', 'YEARS_BUILD_AVG', 'COMMONAREA_AVG', 'ELEVATORS_AVG', 'ENTRANCES_AVG', 'FLOORSMAX_AVG', 'FLOORSMIN_AVG', 'LANDAREA_AVG', 'LIVINGAPARTMENTS_AVG', 'LIVINGAREA_AVG', 'NONLIVINGAPARTMENTS_AVG', 'NONLIVINGAREA_AVG', 'APARTMENTS_MODE', 'BASEMENTAREA_MODE', 'YEARS_BEGINEXPLUATATION_MODE', 'YEARS_BUILD_MODE', 'COMMONAREA_MODE', 'ELEVATORS_MODE', 'ENTRANCES_MODE', 'FLOORSMAX_MODE', 'FLOORSMIN_MODE', 'LANDAREA_MODE', 'LIVINGAPARTMENTS_MODE', 'LIVINGAREA_MODE', 'NONLIVINGAPARTMENTS_MODE', 'NONLIVINGAREA_MODE', 'APARTMENTS_MEDI', 'BASEMENTAREA_MEDI', 'YEARS_BEGINEXPLUATATION_MEDI', 'YEARS_BUILD_MEDI', 'COMMONAREA_MEDI', 'ELEVATORS_MEDI', 'ENTRANCES_MEDI', 'FLOORSMAX_MEDI', 'FLOORSMIN_MEDI', 'LANDAREA_MEDI', 'LIVINGAPARTMENTS_MEDI', 'LIVINGAREA_MEDI', 'NONLIVINGAPARTMENTS_MEDI', 'NONLIVINGAREA_MEDI', 'TOTALAREA_MODE', 'OBS_30_CNT_SOCIAL_CIRCLE', 'DEF_30_CNT_SOCIAL_CIRCLE', 'OBS_60_CNT_SOCIAL_CIRCLE', 'DEF_60_CNT_SOCIAL_CIRCLE', 'DAYS_LAST_PHONE_CHANGE', 'AMT_REQ_CREDIT_BUREAU_HOUR', 'AMT_REQ_CREDIT_BUREAU_DAY', 'AMT_REQ_CREDIT_BUREAU_WEEK', 'AMT_REQ_CREDIT_BUREAU_MON', 'AMT_REQ_CREDIT_BUREAU_QRT', 'AMT_REQ_CREDIT_BUREAU_YEAR']\n"
     ]
    }
   ],
   "source": [
    "# here we seperate missing columns in our new_df based on #categorical and numerical types\n",
    "list_cols_miss=[x[0] for x in miss_counts]\n",
    "list_cols_miss\n",
    "df_miss= new_df.select(*list_cols_miss)\n",
    "# categorical columns\n",
    "catcolums_miss=[item[0] for item in df_miss.dtypes if item[1].startswith('string')]  #will select name of column with string data type\n",
    "print(\"cateogrical columns_miss:\", catcolums_miss)\n",
    "### numerical columns\n",
    "numcolumns_miss = [item[0] for item in df_miss.dtypes if item[1].startswith('int') | item[1].startswith('double')] #will select name of column with integer or double data type\n",
    "print(\"numerical columns_miss:\", numcolumns_miss)"
   ]
  },
  {
   "cell_type": "markdown",
   "metadata": {},
   "source": [
    "**Fill the missing values**"
   ]
  },
  {
   "cell_type": "code",
   "execution_count": 9,
   "metadata": {},
   "outputs": [
    {
     "name": "stdout",
     "output_type": "stream",
     "text": [
      "NAME_TYPE_SUITE Unaccompanied\n",
      "OCCUPATION_TYPE Laborers\n",
      "FONDKAPREMONT_MODE reg oper account\n",
      "HOUSETYPE_MODE block of flats\n",
      "WALLSMATERIAL_MODE Panel\n",
      "EMERGENCYSTATE_MODE No\n",
      "AMT_ANNUITY 27109.0\n",
      "AMT_GOODS_PRICE 538396.0\n",
      "OWN_CAR_AGE 12.0\n",
      "CNT_FAM_MEMBERS 2.0\n",
      "EXT_SOURCE_1 1.0\n",
      "EXT_SOURCE_2 1.0\n",
      "EXT_SOURCE_3 1.0\n",
      "APARTMENTS_AVG 0.0\n",
      "BASEMENTAREA_AVG 0.0\n",
      "YEARS_BEGINEXPLUATATION_AVG 1.0\n",
      "YEARS_BUILD_AVG 1.0\n",
      "COMMONAREA_AVG 0.0\n",
      "ELEVATORS_AVG 0.0\n",
      "ENTRANCES_AVG 0.0\n",
      "FLOORSMAX_AVG 0.0\n",
      "FLOORSMIN_AVG 0.0\n",
      "LANDAREA_AVG 0.0\n",
      "LIVINGAPARTMENTS_AVG 0.0\n",
      "LIVINGAREA_AVG 0.0\n",
      "NONLIVINGAPARTMENTS_AVG 0.0\n",
      "NONLIVINGAREA_AVG 0.0\n",
      "APARTMENTS_MODE 0.0\n",
      "BASEMENTAREA_MODE 0.0\n",
      "YEARS_BEGINEXPLUATATION_MODE 1.0\n",
      "YEARS_BUILD_MODE 1.0\n",
      "COMMONAREA_MODE 0.0\n",
      "ELEVATORS_MODE 0.0\n",
      "ENTRANCES_MODE 0.0\n",
      "FLOORSMAX_MODE 0.0\n",
      "FLOORSMIN_MODE 0.0\n",
      "LANDAREA_MODE 0.0\n",
      "LIVINGAPARTMENTS_MODE 0.0\n",
      "LIVINGAREA_MODE 0.0\n",
      "NONLIVINGAPARTMENTS_MODE 0.0\n",
      "NONLIVINGAREA_MODE 0.0\n",
      "APARTMENTS_MEDI 0.0\n",
      "BASEMENTAREA_MEDI 0.0\n",
      "YEARS_BEGINEXPLUATATION_MEDI 1.0\n",
      "YEARS_BUILD_MEDI 1.0\n",
      "COMMONAREA_MEDI 0.0\n",
      "ELEVATORS_MEDI 0.0\n",
      "ENTRANCES_MEDI 0.0\n",
      "FLOORSMAX_MEDI 0.0\n",
      "FLOORSMIN_MEDI 0.0\n",
      "LANDAREA_MEDI 0.0\n",
      "LIVINGAPARTMENTS_MEDI 0.0\n",
      "LIVINGAREA_MEDI 0.0\n",
      "NONLIVINGAPARTMENTS_MEDI 0.0\n",
      "NONLIVINGAREA_MEDI 0.0\n",
      "TOTALAREA_MODE 0.0\n",
      "OBS_30_CNT_SOCIAL_CIRCLE 1.0\n",
      "DEF_30_CNT_SOCIAL_CIRCLE 0.0\n",
      "OBS_60_CNT_SOCIAL_CIRCLE 1.0\n",
      "DEF_60_CNT_SOCIAL_CIRCLE 0.0\n",
      "DAYS_LAST_PHONE_CHANGE -963.0\n",
      "AMT_REQ_CREDIT_BUREAU_HOUR 0.0\n",
      "AMT_REQ_CREDIT_BUREAU_DAY 0.0\n",
      "AMT_REQ_CREDIT_BUREAU_WEEK 0.0\n",
      "AMT_REQ_CREDIT_BUREAU_MON 0.0\n",
      "AMT_REQ_CREDIT_BUREAU_QRT 0.0\n",
      "AMT_REQ_CREDIT_BUREAU_YEAR 2.0\n"
     ]
    }
   ],
   "source": [
    "# now that we have seperated the columns based on categorical and #numerical types, we will fill the missing categiracl \n",
    "# values with the most frequent category\n",
    "from pyspark.sql.functions import rank,sum,col\n",
    "df_Nomiss=new_df.na.drop()\n",
    "for x in catcolums_miss:                  \n",
    "    mode=df_Nomiss.groupBy(x).count().sort(col(\"count\").desc()).collect()[0][0] \n",
    "    print(x, mode) #print name of columns and it's most categories \n",
    "    new_df = new_df.na.fill({x:mode})\n",
    "# and we fill the missing numerical values with the average of each #column\n",
    "from pyspark.sql.functions import mean, round\n",
    "for i in numcolumns_miss:\n",
    "    meanvalue = new_df.select(round(mean(i))).collect()[0][0] \n",
    "    print(i, meanvalue) \n",
    "    new_df=new_df.na.fill({i:meanvalue})"
   ]
  },
  {
   "cell_type": "markdown",
   "metadata": {},
   "source": [
    "- The dataset no longer contains missing values."
   ]
  },
  {
   "cell_type": "markdown",
   "metadata": {},
   "source": [
    "**Handling Imbalanced Classess**\n",
    "\n",
    "- The next step is addressing the issue of imbalanced classes.\n",
    "- Various methods can be used to mitigate this problem.\n",
    "- One approach involves under-sampling the majority class or over-sampling the minority class to achieve a more balanced outcome.\n",
    "- Another approach is assigning weights to each class to penalize the majority class with lower weights and boost the minority class with higher weights.\n",
    "- To implement this, a new column called \"weights\" is created in the dataset.\n",
    "- The weights are assigned based on the inverse ratio of each class."
   ]
  },
  {
   "cell_type": "code",
   "execution_count": 10,
   "metadata": {},
   "outputs": [],
   "source": [
    "# adding the new column weights and fill it with ratios\n",
    "from pyspark.sql.functions import when\n",
    "ratio = 0.91\n",
    "def weight_balance(labels):\n",
    "    return when(labels == 1, ratio).otherwise(1*(1-ratio))\n",
    "new_df = new_df.withColumn('weights', weight_balance(col('label')))"
   ]
  },
  {
   "cell_type": "code",
   "execution_count": 11,
   "metadata": {},
   "outputs": [
    {
     "name": "stdout",
     "output_type": "stream",
     "text": [
      "+-----+------------------+-----------+------------+---------------+------------+----------------+----------+-----------+---------------+---------------+----------------+--------------------+--------------------+-----------------+--------------------------+----------+-------------+-----------------+---------------+-----------+----------+--------------+---------------+----------------+----------+----------+---------------+---------------+--------------------+---------------------------+--------------------------+-----------------------+--------------------------+--------------------------+---------------------------+----------------------+----------------------+-----------------------+--------------------+-------------------+------------------+-------------------+--------------+----------------+---------------------------+------------------+--------------+-------------+-------------+-------------+-------------+------------+--------------------+--------------+-----------------------+-----------------+---------------+-----------------+----------------------------+----------------+---------------+--------------+--------------+--------------+--------------+-------------+---------------------+---------------+------------------------+------------------+---------------+-----------------+----------------------------+----------------+---------------+--------------+--------------+--------------+--------------+-------------+---------------------+---------------+------------------------+------------------+------------------+--------------+--------------+------------------+-------------------+------------------------+------------------------+------------------------+------------------------+----------------------+---------------+---------------+---------------+---------------+---------------+---------------+---------------+---------------+----------------+----------------+----------------+----------------+----------------+----------------+----------------+----------------+----------------+----------------+----------------+----------------+--------------------------+-------------------------+--------------------------+-------------------------+-------------------------+--------------------------+-------------------+\n",
      "|label|NAME_CONTRACT_TYPE|CODE_GENDER|FLAG_OWN_CAR|FLAG_OWN_REALTY|CNT_CHILDREN|AMT_INCOME_TOTAL|AMT_CREDIT|AMT_ANNUITY|AMT_GOODS_PRICE|NAME_TYPE_SUITE|NAME_INCOME_TYPE| NAME_EDUCATION_TYPE|  NAME_FAMILY_STATUS|NAME_HOUSING_TYPE|REGION_POPULATION_RELATIVE|DAYS_BIRTH|DAYS_EMPLOYED|DAYS_REGISTRATION|DAYS_ID_PUBLISH|OWN_CAR_AGE|FLAG_MOBIL|FLAG_EMP_PHONE|FLAG_WORK_PHONE|FLAG_CONT_MOBILE|FLAG_PHONE|FLAG_EMAIL|OCCUPATION_TYPE|CNT_FAM_MEMBERS|REGION_RATING_CLIENT|REGION_RATING_CLIENT_W_CITY|WEEKDAY_APPR_PROCESS_START|HOUR_APPR_PROCESS_START|REG_REGION_NOT_LIVE_REGION|REG_REGION_NOT_WORK_REGION|LIVE_REGION_NOT_WORK_REGION|REG_CITY_NOT_LIVE_CITY|REG_CITY_NOT_WORK_CITY|LIVE_CITY_NOT_WORK_CITY|   ORGANIZATION_TYPE|       EXT_SOURCE_1|      EXT_SOURCE_2|       EXT_SOURCE_3|APARTMENTS_AVG|BASEMENTAREA_AVG|YEARS_BEGINEXPLUATATION_AVG|   YEARS_BUILD_AVG|COMMONAREA_AVG|ELEVATORS_AVG|ENTRANCES_AVG|FLOORSMAX_AVG|FLOORSMIN_AVG|LANDAREA_AVG|LIVINGAPARTMENTS_AVG|LIVINGAREA_AVG|NONLIVINGAPARTMENTS_AVG|NONLIVINGAREA_AVG|APARTMENTS_MODE|BASEMENTAREA_MODE|YEARS_BEGINEXPLUATATION_MODE|YEARS_BUILD_MODE|COMMONAREA_MODE|ELEVATORS_MODE|ENTRANCES_MODE|FLOORSMAX_MODE|FLOORSMIN_MODE|LANDAREA_MODE|LIVINGAPARTMENTS_MODE|LIVINGAREA_MODE|NONLIVINGAPARTMENTS_MODE|NONLIVINGAREA_MODE|APARTMENTS_MEDI|BASEMENTAREA_MEDI|YEARS_BEGINEXPLUATATION_MEDI|YEARS_BUILD_MEDI|COMMONAREA_MEDI|ELEVATORS_MEDI|ENTRANCES_MEDI|FLOORSMAX_MEDI|FLOORSMIN_MEDI|LANDAREA_MEDI|LIVINGAPARTMENTS_MEDI|LIVINGAREA_MEDI|NONLIVINGAPARTMENTS_MEDI|NONLIVINGAREA_MEDI|FONDKAPREMONT_MODE|HOUSETYPE_MODE|TOTALAREA_MODE|WALLSMATERIAL_MODE|EMERGENCYSTATE_MODE|OBS_30_CNT_SOCIAL_CIRCLE|DEF_30_CNT_SOCIAL_CIRCLE|OBS_60_CNT_SOCIAL_CIRCLE|DEF_60_CNT_SOCIAL_CIRCLE|DAYS_LAST_PHONE_CHANGE|FLAG_DOCUMENT_2|FLAG_DOCUMENT_3|FLAG_DOCUMENT_4|FLAG_DOCUMENT_5|FLAG_DOCUMENT_6|FLAG_DOCUMENT_7|FLAG_DOCUMENT_8|FLAG_DOCUMENT_9|FLAG_DOCUMENT_10|FLAG_DOCUMENT_11|FLAG_DOCUMENT_12|FLAG_DOCUMENT_13|FLAG_DOCUMENT_14|FLAG_DOCUMENT_15|FLAG_DOCUMENT_16|FLAG_DOCUMENT_17|FLAG_DOCUMENT_18|FLAG_DOCUMENT_19|FLAG_DOCUMENT_20|FLAG_DOCUMENT_21|AMT_REQ_CREDIT_BUREAU_HOUR|AMT_REQ_CREDIT_BUREAU_DAY|AMT_REQ_CREDIT_BUREAU_WEEK|AMT_REQ_CREDIT_BUREAU_MON|AMT_REQ_CREDIT_BUREAU_QRT|AMT_REQ_CREDIT_BUREAU_YEAR|            weights|\n",
      "+-----+------------------+-----------+------------+---------------+------------+----------------+----------+-----------+---------------+---------------+----------------+--------------------+--------------------+-----------------+--------------------------+----------+-------------+-----------------+---------------+-----------+----------+--------------+---------------+----------------+----------+----------+---------------+---------------+--------------------+---------------------------+--------------------------+-----------------------+--------------------------+--------------------------+---------------------------+----------------------+----------------------+-----------------------+--------------------+-------------------+------------------+-------------------+--------------+----------------+---------------------------+------------------+--------------+-------------+-------------+-------------+-------------+------------+--------------------+--------------+-----------------------+-----------------+---------------+-----------------+----------------------------+----------------+---------------+--------------+--------------+--------------+--------------+-------------+---------------------+---------------+------------------------+------------------+---------------+-----------------+----------------------------+----------------+---------------+--------------+--------------+--------------+--------------+-------------+---------------------+---------------+------------------------+------------------+------------------+--------------+--------------+------------------+-------------------+------------------------+------------------------+------------------------+------------------------+----------------------+---------------+---------------+---------------+---------------+---------------+---------------+---------------+---------------+----------------+----------------+----------------+----------------+----------------+----------------+----------------+----------------+----------------+----------------+----------------+----------------+--------------------------+-------------------------+--------------------------+-------------------------+-------------------------+--------------------------+-------------------+\n",
      "|    1|        Cash loans|          M|           N|              Y|           0|        202500.0|  406597.5|    24700.5|       351000.0|  Unaccompanied|         Working|Secondary / secon...|Single / not married|House / apartment|                  0.018801|     -9461|         -637|          -3648.0|          -2120|       12.0|         1|             1|              0|               1|         1|         0|       Laborers|            1.0|                   2|                          2|                 WEDNESDAY|                     10|                         0|                         0|                          0|                     0|                     0|                      0|Business Entity T...|0.08303696739132256|0.2629485927471776|0.13937578009978951|        0.0247|          0.0369|                     0.9722|            0.6192|        0.0143|          0.0|        0.069|       0.0833|        0.125|      0.0369|              0.0202|         0.019|                    0.0|              0.0|         0.0252|           0.0383|                      0.9722|          0.6341|         0.0144|           0.0|         0.069|        0.0833|         0.125|       0.0377|                0.022|         0.0198|                     0.0|               0.0|          0.025|           0.0369|                      0.9722|          0.6243|         0.0144|           0.0|         0.069|        0.0833|         0.125|       0.0375|               0.0205|         0.0193|                     0.0|               0.0|  reg oper account|block of flats|        0.0149|      Stone, brick|                 No|                     2.0|                     2.0|                     2.0|                     2.0|               -1134.0|              0|              1|              0|              0|              0|              0|              0|              0|               0|               0|               0|               0|               0|               0|               0|               0|               0|               0|               0|               0|                       0.0|                      0.0|                       0.0|                      0.0|                      0.0|                       1.0|               0.91|\n",
      "|    0|        Cash loans|          F|           N|              N|           0|        270000.0| 1293502.5|    35698.5|      1129500.0|         Family|   State servant|    Higher education|             Married|House / apartment|      0.003540999999999999|    -16765|        -1188|          -1186.0|           -291|       12.0|         1|             1|              0|               1|         1|         0|     Core staff|            2.0|                   1|                          1|                    MONDAY|                     11|                         0|                         0|                          0|                     0|                     0|                      0|              School| 0.3112673113812225|0.6222457752555098|                1.0|        0.0959|          0.0529|                     0.9851|0.7959999999999999|        0.0605|         0.08|       0.0345|       0.2917|       0.3333|       0.013|              0.0773|        0.0549|                 0.0039|           0.0098|         0.0924|           0.0538|                      0.9851|           0.804|         0.0497|        0.0806|        0.0345|        0.2917|        0.3333|       0.0128|                0.079|         0.0554|                     0.0|               0.0|         0.0968|           0.0529|                      0.9851|          0.7987|         0.0608|          0.08|        0.0345|        0.2917|        0.3333|       0.0132|               0.0787|         0.0558|                  0.0039|              0.01|  reg oper account|block of flats|        0.0714|             Block|                 No|                     1.0|                     0.0|                     1.0|                     0.0|                -828.0|              0|              1|              0|              0|              0|              0|              0|              0|               0|               0|               0|               0|               0|               0|               0|               0|               0|               0|               0|               0|                       0.0|                      0.0|                       0.0|                      0.0|                      0.0|                       0.0|0.08999999999999997|\n",
      "|    0|   Revolving loans|          M|           Y|              Y|           0|         67500.0|  135000.0|     6750.0|       135000.0|  Unaccompanied|         Working|Secondary / secon...|Single / not married|House / apartment|                  0.010032|    -19046|         -225|          -4260.0|          -2531|       26.0|         1|             1|              1|               1|         1|         0|       Laborers|            1.0|                   2|                          2|                    MONDAY|                      9|                         0|                         0|                          0|                     0|                     0|                      0|          Government|                1.0|0.5559120833904428| 0.7295666907060153|           0.0|             0.0|                        1.0|               1.0|           0.0|          0.0|          0.0|          0.0|          0.0|         0.0|                 0.0|           0.0|                    0.0|              0.0|            0.0|              0.0|                         1.0|             1.0|            0.0|           0.0|           0.0|           0.0|           0.0|          0.0|                  0.0|            0.0|                     0.0|               0.0|            0.0|              0.0|                         1.0|             1.0|            0.0|           0.0|           0.0|           0.0|           0.0|          0.0|                  0.0|            0.0|                     0.0|               0.0|  reg oper account|block of flats|           0.0|             Panel|                 No|                     0.0|                     0.0|                     0.0|                     0.0|                -815.0|              0|              0|              0|              0|              0|              0|              0|              0|               0|               0|               0|               0|               0|               0|               0|               0|               0|               0|               0|               0|                       0.0|                      0.0|                       0.0|                      0.0|                      0.0|                       0.0|0.08999999999999997|\n",
      "|    0|        Cash loans|          F|           N|              Y|           0|        135000.0|  312682.5|    29686.5|       297000.0|  Unaccompanied|         Working|Secondary / secon...|      Civil marriage|House / apartment|                  0.008019|    -19005|        -3039|          -9833.0|          -2437|       12.0|         1|             1|              0|               1|         0|         0|       Laborers|            2.0|                   2|                          2|                 WEDNESDAY|                     17|                         0|                         0|                          0|                     0|                     0|                      0|Business Entity T...|                1.0|0.6504416904014653|                1.0|           0.0|             0.0|                        1.0|               1.0|           0.0|          0.0|          0.0|          0.0|          0.0|         0.0|                 0.0|           0.0|                    0.0|              0.0|            0.0|              0.0|                         1.0|             1.0|            0.0|           0.0|           0.0|           0.0|           0.0|          0.0|                  0.0|            0.0|                     0.0|               0.0|            0.0|              0.0|                         1.0|             1.0|            0.0|           0.0|           0.0|           0.0|           0.0|          0.0|                  0.0|            0.0|                     0.0|               0.0|  reg oper account|block of flats|           0.0|             Panel|                 No|                     2.0|                     0.0|                     2.0|                     0.0|                -617.0|              0|              1|              0|              0|              0|              0|              0|              0|               0|               0|               0|               0|               0|               0|               0|               0|               0|               0|               0|               0|                       0.0|                      0.0|                       0.0|                      0.0|                      0.0|                       2.0|0.08999999999999997|\n",
      "|    0|        Cash loans|          M|           N|              Y|           0|        121500.0|  513000.0|    21865.5|       513000.0|  Unaccompanied|         Working|Secondary / secon...|Single / not married|House / apartment|                  0.028663|    -19932|        -3038|          -4311.0|          -3458|       12.0|         1|             1|              0|               1|         0|         0|     Core staff|            1.0|                   2|                          2|                  THURSDAY|                     11|                         0|                         0|                          0|                     0|                     1|                      1|            Religion|                1.0|0.3227382869704046|                1.0|           0.0|             0.0|                        1.0|               1.0|           0.0|          0.0|          0.0|          0.0|          0.0|         0.0|                 0.0|           0.0|                    0.0|              0.0|            0.0|              0.0|                         1.0|             1.0|            0.0|           0.0|           0.0|           0.0|           0.0|          0.0|                  0.0|            0.0|                     0.0|               0.0|            0.0|              0.0|                         1.0|             1.0|            0.0|           0.0|           0.0|           0.0|           0.0|          0.0|                  0.0|            0.0|                     0.0|               0.0|  reg oper account|block of flats|           0.0|             Panel|                 No|                     0.0|                     0.0|                     0.0|                     0.0|               -1106.0|              0|              0|              0|              0|              0|              0|              1|              0|               0|               0|               0|               0|               0|               0|               0|               0|               0|               0|               0|               0|                       0.0|                      0.0|                       0.0|                      0.0|                      0.0|                       0.0|0.08999999999999997|\n",
      "+-----+------------------+-----------+------------+---------------+------------+----------------+----------+-----------+---------------+---------------+----------------+--------------------+--------------------+-----------------+--------------------------+----------+-------------+-----------------+---------------+-----------+----------+--------------+---------------+----------------+----------+----------+---------------+---------------+--------------------+---------------------------+--------------------------+-----------------------+--------------------------+--------------------------+---------------------------+----------------------+----------------------+-----------------------+--------------------+-------------------+------------------+-------------------+--------------+----------------+---------------------------+------------------+--------------+-------------+-------------+-------------+-------------+------------+--------------------+--------------+-----------------------+-----------------+---------------+-----------------+----------------------------+----------------+---------------+--------------+--------------+--------------+--------------+-------------+---------------------+---------------+------------------------+------------------+---------------+-----------------+----------------------------+----------------+---------------+--------------+--------------+--------------+--------------+-------------+---------------------+---------------+------------------------+------------------+------------------+--------------+--------------+------------------+-------------------+------------------------+------------------------+------------------------+------------------------+----------------------+---------------+---------------+---------------+---------------+---------------+---------------+---------------+---------------+----------------+----------------+----------------+----------------+----------------+----------------+----------------+----------------+----------------+----------------+----------------+----------------+--------------------------+-------------------------+--------------------------+-------------------------+-------------------------+--------------------------+-------------------+\n",
      "only showing top 5 rows\n",
      "\n"
     ]
    }
   ],
   "source": [
    "new_df.show(5)"
   ]
  },
  {
   "cell_type": "markdown",
   "metadata": {},
   "source": [
    "**Feature Engineering**\n",
    "- The next step in the process is Feature Engineering.\n",
    "- pySpark simplifies feature extraction, making it easier.\n",
    "- The steps involved in feature extraction are as follows:\n",
    "  1. Apply StringIndexer() to assign indices to each category in our categorical columns.\n",
    "  2. Use OneHotEncoderEstimator() to convert categorical columns into one-hot encoded vectors.\n",
    "  3. Apply VectorAssembler() to create a feature vector that combines all categorical and numerical features, referred to as \"features.\""
   ]
  },
  {
   "cell_type": "code",
   "execution_count": 12,
   "metadata": {},
   "outputs": [],
   "source": [
    "# We use the OneHotEncoderEstimator from MLlib in Spark to convert each categorical feature into one-hot vectors.\n",
    "# Next, we use VectorAssembler to combine the resulting one-hot vectors and the rest of the numerical features into a single vector column.\n",
    "# We append every step of the process in a stages array.\n",
    "\n",
    "from pyspark.ml.feature import OneHotEncoder, StringIndexer, VectorAssembler\n",
    "\n",
    "stages = []\n",
    "\n",
    "for categoricalCol in cat_cols:\n",
    "    stringIndexer = StringIndexer(inputCol=categoricalCol, outputCol=categoricalCol + 'Index')\n",
    "    encoder = OneHotEncoder(inputCols=[stringIndexer.getOutputCol()], outputCols=[categoricalCol + \"classVec\"])\n",
    "    stages += [stringIndexer, encoder]\n",
    "\n",
    "assemblerInputs = [c + \"classVec\" for c in cat_cols] + num_cols\n",
    "assembler = VectorAssembler(inputCols=assemblerInputs, outputCol=\"features\")\n",
    "stages += [assembler]\n"
   ]
  },
  {
   "cell_type": "markdown",
   "metadata": {},
   "source": [
    "1. We will now create a pipeline.\n",
    "2. This pipeline will perform a sequence of transformations.\n",
    "3. The purpose is to apply all these transformations at once.\n",
    "4. This approach simplifies the process of applying multiple transformations in a sequence."
   ]
  },
  {
   "cell_type": "code",
   "execution_count": 13,
   "metadata": {},
   "outputs": [
    {
     "data": {
      "text/html": [
       "<div>\n",
       "<style scoped>\n",
       "    .dataframe tbody tr th:only-of-type {\n",
       "        vertical-align: middle;\n",
       "    }\n",
       "\n",
       "    .dataframe tbody tr th {\n",
       "        vertical-align: top;\n",
       "    }\n",
       "\n",
       "    .dataframe thead th {\n",
       "        text-align: right;\n",
       "    }\n",
       "</style>\n",
       "<table border=\"1\" class=\"dataframe\">\n",
       "  <thead>\n",
       "    <tr style=\"text-align: right;\">\n",
       "      <th></th>\n",
       "      <th>features</th>\n",
       "      <th>label</th>\n",
       "      <th>NAME_CONTRACT_TYPE</th>\n",
       "      <th>CODE_GENDER</th>\n",
       "      <th>FLAG_OWN_CAR</th>\n",
       "      <th>FLAG_OWN_REALTY</th>\n",
       "      <th>CNT_CHILDREN</th>\n",
       "      <th>AMT_INCOME_TOTAL</th>\n",
       "      <th>AMT_CREDIT</th>\n",
       "      <th>AMT_ANNUITY</th>\n",
       "      <th>...</th>\n",
       "      <th>FLAG_DOCUMENT_19</th>\n",
       "      <th>FLAG_DOCUMENT_20</th>\n",
       "      <th>FLAG_DOCUMENT_21</th>\n",
       "      <th>AMT_REQ_CREDIT_BUREAU_HOUR</th>\n",
       "      <th>AMT_REQ_CREDIT_BUREAU_DAY</th>\n",
       "      <th>AMT_REQ_CREDIT_BUREAU_WEEK</th>\n",
       "      <th>AMT_REQ_CREDIT_BUREAU_MON</th>\n",
       "      <th>AMT_REQ_CREDIT_BUREAU_QRT</th>\n",
       "      <th>AMT_REQ_CREDIT_BUREAU_YEAR</th>\n",
       "      <th>weights</th>\n",
       "    </tr>\n",
       "  </thead>\n",
       "  <tbody>\n",
       "    <tr>\n",
       "      <th>0</th>\n",
       "      <td>(1.0, 0.0, 1.0, 1.0, 1.0, 1.0, 0.0, 0.0, 0.0, ...</td>\n",
       "      <td>1</td>\n",
       "      <td>Cash loans</td>\n",
       "      <td>M</td>\n",
       "      <td>N</td>\n",
       "      <td>Y</td>\n",
       "      <td>0</td>\n",
       "      <td>202500.0</td>\n",
       "      <td>406597.5</td>\n",
       "      <td>24700.5</td>\n",
       "      <td>...</td>\n",
       "      <td>0</td>\n",
       "      <td>0</td>\n",
       "      <td>0</td>\n",
       "      <td>0.0</td>\n",
       "      <td>0.0</td>\n",
       "      <td>0.0</td>\n",
       "      <td>0.0</td>\n",
       "      <td>0.0</td>\n",
       "      <td>1.0</td>\n",
       "      <td>0.91</td>\n",
       "    </tr>\n",
       "    <tr>\n",
       "      <th>1</th>\n",
       "      <td>(1.0, 1.0, 0.0, 1.0, 0.0, 0.0, 1.0, 0.0, 0.0, ...</td>\n",
       "      <td>0</td>\n",
       "      <td>Cash loans</td>\n",
       "      <td>F</td>\n",
       "      <td>N</td>\n",
       "      <td>N</td>\n",
       "      <td>0</td>\n",
       "      <td>270000.0</td>\n",
       "      <td>1293502.5</td>\n",
       "      <td>35698.5</td>\n",
       "      <td>...</td>\n",
       "      <td>0</td>\n",
       "      <td>0</td>\n",
       "      <td>0</td>\n",
       "      <td>0.0</td>\n",
       "      <td>0.0</td>\n",
       "      <td>0.0</td>\n",
       "      <td>0.0</td>\n",
       "      <td>0.0</td>\n",
       "      <td>0.0</td>\n",
       "      <td>0.09</td>\n",
       "    </tr>\n",
       "    <tr>\n",
       "      <th>2</th>\n",
       "      <td>(0.0, 0.0, 1.0, 0.0, 1.0, 1.0, 0.0, 0.0, 0.0, ...</td>\n",
       "      <td>0</td>\n",
       "      <td>Revolving loans</td>\n",
       "      <td>M</td>\n",
       "      <td>Y</td>\n",
       "      <td>Y</td>\n",
       "      <td>0</td>\n",
       "      <td>67500.0</td>\n",
       "      <td>135000.0</td>\n",
       "      <td>6750.0</td>\n",
       "      <td>...</td>\n",
       "      <td>0</td>\n",
       "      <td>0</td>\n",
       "      <td>0</td>\n",
       "      <td>0.0</td>\n",
       "      <td>0.0</td>\n",
       "      <td>0.0</td>\n",
       "      <td>0.0</td>\n",
       "      <td>0.0</td>\n",
       "      <td>0.0</td>\n",
       "      <td>0.09</td>\n",
       "    </tr>\n",
       "    <tr>\n",
       "      <th>3</th>\n",
       "      <td>(1.0, 1.0, 0.0, 1.0, 1.0, 1.0, 0.0, 0.0, 0.0, ...</td>\n",
       "      <td>0</td>\n",
       "      <td>Cash loans</td>\n",
       "      <td>F</td>\n",
       "      <td>N</td>\n",
       "      <td>Y</td>\n",
       "      <td>0</td>\n",
       "      <td>135000.0</td>\n",
       "      <td>312682.5</td>\n",
       "      <td>29686.5</td>\n",
       "      <td>...</td>\n",
       "      <td>0</td>\n",
       "      <td>0</td>\n",
       "      <td>0</td>\n",
       "      <td>0.0</td>\n",
       "      <td>0.0</td>\n",
       "      <td>0.0</td>\n",
       "      <td>0.0</td>\n",
       "      <td>0.0</td>\n",
       "      <td>2.0</td>\n",
       "      <td>0.09</td>\n",
       "    </tr>\n",
       "    <tr>\n",
       "      <th>4</th>\n",
       "      <td>(1.0, 0.0, 1.0, 1.0, 1.0, 1.0, 0.0, 0.0, 0.0, ...</td>\n",
       "      <td>0</td>\n",
       "      <td>Cash loans</td>\n",
       "      <td>M</td>\n",
       "      <td>N</td>\n",
       "      <td>Y</td>\n",
       "      <td>0</td>\n",
       "      <td>121500.0</td>\n",
       "      <td>513000.0</td>\n",
       "      <td>21865.5</td>\n",
       "      <td>...</td>\n",
       "      <td>0</td>\n",
       "      <td>0</td>\n",
       "      <td>0</td>\n",
       "      <td>0.0</td>\n",
       "      <td>0.0</td>\n",
       "      <td>0.0</td>\n",
       "      <td>0.0</td>\n",
       "      <td>0.0</td>\n",
       "      <td>0.0</td>\n",
       "      <td>0.09</td>\n",
       "    </tr>\n",
       "  </tbody>\n",
       "</table>\n",
       "<p>5 rows × 123 columns</p>\n",
       "</div>"
      ],
      "text/plain": [
       "                                            features  label  \\\n",
       "0  (1.0, 0.0, 1.0, 1.0, 1.0, 1.0, 0.0, 0.0, 0.0, ...      1   \n",
       "1  (1.0, 1.0, 0.0, 1.0, 0.0, 0.0, 1.0, 0.0, 0.0, ...      0   \n",
       "2  (0.0, 0.0, 1.0, 0.0, 1.0, 1.0, 0.0, 0.0, 0.0, ...      0   \n",
       "3  (1.0, 1.0, 0.0, 1.0, 1.0, 1.0, 0.0, 0.0, 0.0, ...      0   \n",
       "4  (1.0, 0.0, 1.0, 1.0, 1.0, 1.0, 0.0, 0.0, 0.0, ...      0   \n",
       "\n",
       "  NAME_CONTRACT_TYPE CODE_GENDER FLAG_OWN_CAR FLAG_OWN_REALTY  CNT_CHILDREN  \\\n",
       "0         Cash loans           M            N               Y             0   \n",
       "1         Cash loans           F            N               N             0   \n",
       "2    Revolving loans           M            Y               Y             0   \n",
       "3         Cash loans           F            N               Y             0   \n",
       "4         Cash loans           M            N               Y             0   \n",
       "\n",
       "   AMT_INCOME_TOTAL  AMT_CREDIT  AMT_ANNUITY  ...  FLAG_DOCUMENT_19  \\\n",
       "0          202500.0    406597.5      24700.5  ...                 0   \n",
       "1          270000.0   1293502.5      35698.5  ...                 0   \n",
       "2           67500.0    135000.0       6750.0  ...                 0   \n",
       "3          135000.0    312682.5      29686.5  ...                 0   \n",
       "4          121500.0    513000.0      21865.5  ...                 0   \n",
       "\n",
       "  FLAG_DOCUMENT_20 FLAG_DOCUMENT_21 AMT_REQ_CREDIT_BUREAU_HOUR  \\\n",
       "0                0                0                        0.0   \n",
       "1                0                0                        0.0   \n",
       "2                0                0                        0.0   \n",
       "3                0                0                        0.0   \n",
       "4                0                0                        0.0   \n",
       "\n",
       "  AMT_REQ_CREDIT_BUREAU_DAY AMT_REQ_CREDIT_BUREAU_WEEK  \\\n",
       "0                       0.0                        0.0   \n",
       "1                       0.0                        0.0   \n",
       "2                       0.0                        0.0   \n",
       "3                       0.0                        0.0   \n",
       "4                       0.0                        0.0   \n",
       "\n",
       "   AMT_REQ_CREDIT_BUREAU_MON  AMT_REQ_CREDIT_BUREAU_QRT  \\\n",
       "0                        0.0                        0.0   \n",
       "1                        0.0                        0.0   \n",
       "2                        0.0                        0.0   \n",
       "3                        0.0                        0.0   \n",
       "4                        0.0                        0.0   \n",
       "\n",
       "   AMT_REQ_CREDIT_BUREAU_YEAR  weights  \n",
       "0                         1.0     0.91  \n",
       "1                         0.0     0.09  \n",
       "2                         0.0     0.09  \n",
       "3                         2.0     0.09  \n",
       "4                         0.0     0.09  \n",
       "\n",
       "[5 rows x 123 columns]"
      ]
     },
     "execution_count": 13,
     "metadata": {},
     "output_type": "execute_result"
    }
   ],
   "source": [
    "# we use a pipeline to apply all the stages of transformation\n",
    "from pyspark.ml import Pipeline\n",
    "cols = new_df.columns\n",
    "pipeline = Pipeline(stages = stages)\n",
    "pipelineModel = pipeline.fit(new_df)\n",
    "new_df = pipelineModel.transform(new_df)\n",
    "selectedCols = ['features']+cols\n",
    "new_df = new_df.select(selectedCols)\n",
    "pd.DataFrame(new_df.take(5), columns=new_df.columns)"
   ]
  },
  {
   "cell_type": "markdown",
   "metadata": {},
   "source": [
    "## **4. Model Building**\n",
    "**Training and Hyper-parameter Tuning**\n",
    "- Split the dataset into training and testing sets for training.\n",
    "- Begin training with Logistic Regression.\n",
    "- Choose Logistic Regression for its performance in binary classification problems."
   ]
  },
  {
   "cell_type": "markdown",
   "metadata": {},
   "source": [
    "**Train-Test Split**"
   ]
  },
  {
   "cell_type": "code",
   "execution_count": 14,
   "metadata": {},
   "outputs": [
    {
     "name": "stdout",
     "output_type": "stream",
     "text": [
      "246240\n",
      "61271\n"
     ]
    }
   ],
   "source": [
    "# split the data into trainign and testin sets\n",
    "train, test = new_df.randomSplit([0.80, 0.20], seed = 42)\n",
    "print(train.count())\n",
    "print(test.count())"
   ]
  },
  {
   "cell_type": "markdown",
   "metadata": {},
   "source": [
    "**Logistics Regression**"
   ]
  },
  {
   "cell_type": "code",
   "execution_count": 15,
   "metadata": {},
   "outputs": [],
   "source": [
    "# first we check how LogisticRegression perform \n",
    "from pyspark.ml.classification import LogisticRegression\n",
    "LR = LogisticRegression(featuresCol = 'features', labelCol = 'label', maxIter=15)\n",
    "LR_model = LR.fit(train)"
   ]
  },
  {
   "cell_type": "markdown",
   "metadata": {},
   "source": [
    "**Gradient Boosting Trees (GBT)**"
   ]
  },
  {
   "cell_type": "code",
   "execution_count": 16,
   "metadata": {},
   "outputs": [],
   "source": [
    "# next we checkout gradient boosting trees\n",
    "from pyspark.ml.classification import GBTClassifier\n",
    "gbt = GBTClassifier(maxIter=15)\n",
    "GBT_Model = gbt.fit(train)"
   ]
  },
  {
   "cell_type": "markdown",
   "metadata": {},
   "source": [
    "- Achieved a significantly improved result of 0.732 using GBT.\n"
   ]
  },
  {
   "cell_type": "markdown",
   "metadata": {},
   "source": [
    "**Hyperparameter Tuning - Gradient Boosting Trees (GBT)**\n",
    "- Final strategy includes hyper-parameter tuning through grid search.\n",
    "- Planning to follow up with cross-validation to further enhance GBT performance."
   ]
  },
  {
   "cell_type": "code",
   "execution_count": 19,
   "metadata": {},
   "outputs": [],
   "source": [
    "from pyspark.ml.tuning import ParamGridBuilder, CrossValidator\n",
    "from pyspark.ml.evaluation import BinaryClassificationEvaluator  # Import BinaryClassificationEvaluator\n",
    "\n",
    "paramGrid = (ParamGridBuilder().addGrid(gbt.maxDepth, [2, 4, 6]).addGrid(gbt.maxBins, [20, 30]).addGrid(gbt.maxIter, [10, 15]).build())\n",
    "cv = CrossValidator(estimator=gbt, estimatorParamMaps=paramGrid, evaluator = BinaryClassificationEvaluator(), numFolds=5)\n",
    "# Run cross validations.\n",
    "cvModel = cv.fit(train)"
   ]
  },
  {
   "cell_type": "markdown",
   "metadata": {},
   "source": [
    "- The result showed a slight improvement.\n",
    "- There is room for further enhancement by experimenting with hyper-parameter tuning."
   ]
  },
  {
   "cell_type": "markdown",
   "metadata": {},
   "source": [
    "## **5. Model Evaluation**\n",
    "1. We will create an ROC curve for the training data.\n",
    "2. The purpose is to assess the performance of Logistic Regression.\n",
    "3. We will utilize the Area Under the ROC Curve (AUC-ROC).\n",
    "4. AUC-ROC is a common metric for evaluating binary classification models."
   ]
  },
  {
   "cell_type": "code",
   "execution_count": 23,
   "metadata": {},
   "outputs": [
    {
     "name": "stdout",
     "output_type": "stream",
     "text": [
      "Test_SET Logistic Regression (Area Under ROC): 0.7215699765501389\n",
      "Test_SET GBT (Area Under ROC): 0.7298618196435773\n",
      "Test_SET GBT_Tuned (Area Under ROC): 0.7321482798175072\n"
     ]
    }
   ],
   "source": [
    "from pyspark.ml.evaluation import BinaryClassificationEvaluator\n",
    "evaluator = BinaryClassificationEvaluator()\n",
    "\n",
    "predictions_LR = LR_model.transform(test)\n",
    "print(\"Test_SET Logistic Regression (Area Under ROC): \" + str(evaluator.evaluate(predictions_LR, {evaluator.metricName: \"areaUnderROC\"})))\n",
    "\n",
    "gbt_predictions = GBT_Model.transform(test)\n",
    "print(\"Test_SET GBT (Area Under ROC): \" + str(evaluator.evaluate(gbt_predictions, {evaluator.metricName: \"areaUnderROC\"})))\n",
    "\n",
    "gbt_cv_predictions = cvModel.transform(test)\n",
    "print(\"Test_SET GBT_Tuned (Area Under ROC): \" + str(evaluator.evaluate(gbt_cv_predictions, {evaluator.metricName: \"areaUnderROC\"})))\n"
   ]
  },
  {
   "cell_type": "code",
   "execution_count": 24,
   "metadata": {},
   "outputs": [
    {
     "data": {
      "image/png": "[encoded data removed]",
      "text/plain": [
       "<Figure size 640x480 with 1 Axes>"
      ]
     },
     "metadata": {},
     "output_type": "display_data"
    },
    {
     "name": "stdout",
     "output_type": "stream",
     "text": [
      "Training set ROC: 0.7229899807041205\n"
     ]
    }
   ],
   "source": [
    "#plotting the ROC Curve\n",
    "trainingSummary = LR_model.summary\n",
    "roc_LR = trainingSummary.roc.toPandas()\n",
    "plt.plot(roc_LR['FPR'],roc_LR['TPR'])\n",
    "plt.ylabel('False Positive Rate')\n",
    "plt.xlabel('True Positive Rate')\n",
    "plt.title('ROC Curve - Logistics Regression')\n",
    "plt.show()\n",
    "print('Training set ROC: ' + str(trainingSummary.areaUnderROC))"
   ]
  },
  {
   "cell_type": "markdown",
   "metadata": {},
   "source": [
    "# **<center>THE END</center>**"
   ]
  }
 ],
 "metadata": {
  "kernelspec": {
   "display_name": "Python 3",
   "language": "python",
   "name": "python3"
  },
  "language_info": {
   "codemirror_mode": {
    "name": "ipython",
    "version": 3
   },
   "file_extension": ".py",
   "mimetype": "text/x-python",
   "name": "python",
   "nbconvert_exporter": "python",
   "pygments_lexer": "ipython3",
   "version": "3.9.18"
  },
  "orig_nbformat": 4
 },
 "nbformat": 4,
 "nbformat_minor": 2
}
